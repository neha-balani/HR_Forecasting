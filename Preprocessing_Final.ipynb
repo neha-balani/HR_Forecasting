{
 "cells": [
  {
   "cell_type": "code",
   "execution_count": 1,
   "metadata": {},
   "outputs": [],
   "source": [
    "import numpy as np\n",
    "#from scipy import stats\n",
    "#import matplotlib.pyplot as plt\n",
    "%matplotlib inline\n",
    "import warnings\n",
    "warnings.filterwarnings(\"ignore\")\n",
    "import boto3\n",
    "import pandas as pd"
   ]
  },
  {
   "cell_type": "code",
   "execution_count": 2,
   "metadata": {},
   "outputs": [],
   "source": [
    "# #Fetching data from staging bucket\n",
    "# s3 = s3fs.S3FileSystem()\n",
    "# fs = s3fs.core.S3FileSystem()\n",
    " \n",
    "# #s3_path = \"gbs-gl-predictive-staging-dev/gl-predictive-analytics/are=9462/gl-transactions/*.parquet\" # old link\n",
    "# s3_path_txn = \"gbs-gl-predictive-staging-dev/gl-predictive-analytics/gl-transactions/company_code=9462/*.parquet\"\n",
    "# #s3_path_gl = \"gbs-gl-predictive-staging-dev/gl-predictive-analytics/gl-ending-balance/company_code=9462/*.parquet\"\n",
    "# txn_paths_from_s3 = fs.glob(path=s3_path_txn)\n",
    "# #gl_paths_from_s3 = fs.glob(path=s3_path_gl)\n",
    "\n",
    "# myopen = s3.open\n",
    "# #use s3fs as the filesystem\n",
    "# fp_obj_txn = fp.ParquetFile(txn_paths_from_s3,open_with=myopen)\n",
    "# #fp_obj_gl = fp.ParquetFile(gl_paths_from_s3,open_with=myopen)"
   ]
  },
  {
   "cell_type": "code",
   "execution_count": 3,
   "metadata": {},
   "outputs": [],
   "source": [
    "# fp_obj_txn\n",
    "# # # #fp_obj_gl"
   ]
  },
  {
   "cell_type": "code",
   "execution_count": 4,
   "metadata": {},
   "outputs": [],
   "source": [
    "# #taking only the neccessary columns and converting it into pandas\n",
    "# data_txn = fp_obj_txn.to_pandas(['gl_account', 'posting_calendar_date', 'balance_sheet_account', 'entry_calendar_date', 'entered_by', 'debit_credit_indicator','Amt_loc_Currency'])\n",
    "# # data_txn.shape"
   ]
  },
  {
   "cell_type": "code",
   "execution_count": 5,
   "metadata": {},
   "outputs": [],
   "source": [
    "# data_txn.head(50)"
   ]
  },
  {
   "cell_type": "markdown",
   "metadata": {},
   "source": [
    "# Saving Subset data to S3 bucket for use"
   ]
  },
  {
   "cell_type": "code",
   "execution_count": 6,
   "metadata": {},
   "outputs": [],
   "source": [
    "#     import s3fs\n",
    "#     extra_args = {\n",
    "#         \"ServerSideEncryption\": \"aws:kms\"\n",
    "#     }\n",
    "#     s3=s3fs.S3FileSystem(anon=False,s3_additional_kwargs=extra_args)"
   ]
  },
  {
   "cell_type": "code",
   "execution_count": 7,
   "metadata": {},
   "outputs": [],
   "source": [
    "# with s3.open('s3://gbs-gl-predictive-staging-dev/gl-predictive-analytics/stats/are=9462/end_balances/data_txn.csv1',mode='w',newline = '\\n') as f:\n",
    "#     data_txn.to_csv(f,sep=\",\",index=False,encoding=\"utf-8\")"
   ]
  },
  {
   "cell_type": "code",
   "execution_count": 8,
   "metadata": {},
   "outputs": [],
   "source": [
    "# data_txn.to_csv('data_txn.csv',sep=\",\",index=False,encoding=\"utf-8\")"
   ]
  },
  {
   "cell_type": "markdown",
   "metadata": {},
   "source": [
    "# Read CSV file "
   ]
  },
  {
   "cell_type": "code",
   "execution_count": 9,
   "metadata": {},
   "outputs": [
    {
     "data": {
      "text/html": [
       "<div>\n",
       "<style scoped>\n",
       "    .dataframe tbody tr th:only-of-type {\n",
       "        vertical-align: middle;\n",
       "    }\n",
       "\n",
       "    .dataframe tbody tr th {\n",
       "        vertical-align: top;\n",
       "    }\n",
       "\n",
       "    .dataframe thead th {\n",
       "        text-align: right;\n",
       "    }\n",
       "</style>\n",
       "<table border=\"1\" class=\"dataframe\">\n",
       "  <thead>\n",
       "    <tr style=\"text-align: right;\">\n",
       "      <th></th>\n",
       "      <th>gl_account</th>\n",
       "      <th>posting_calendar_date</th>\n",
       "      <th>balance_sheet_account</th>\n",
       "      <th>entry_calendar_date</th>\n",
       "      <th>entered_by</th>\n",
       "      <th>debit_credit_indicator</th>\n",
       "      <th>Amt_loc_Currency</th>\n",
       "    </tr>\n",
       "  </thead>\n",
       "  <tbody>\n",
       "    <tr>\n",
       "      <th>0</th>\n",
       "      <td>0069614010</td>\n",
       "      <td>2019-01-15</td>\n",
       "      <td>NaN</td>\n",
       "      <td>2019-01-15</td>\n",
       "      <td>Z0009EIA</td>\n",
       "      <td>S</td>\n",
       "      <td>479.12</td>\n",
       "    </tr>\n",
       "    <tr>\n",
       "      <th>1</th>\n",
       "      <td>0043060000</td>\n",
       "      <td>2019-01-11</td>\n",
       "      <td>X</td>\n",
       "      <td>2019-01-11</td>\n",
       "      <td>SYS_BIZTALK</td>\n",
       "      <td>S</td>\n",
       "      <td>22.20</td>\n",
       "    </tr>\n",
       "    <tr>\n",
       "      <th>2</th>\n",
       "      <td>0060101000</td>\n",
       "      <td>2019-01-24</td>\n",
       "      <td>NaN</td>\n",
       "      <td>2019-01-24</td>\n",
       "      <td>Z0009ETH</td>\n",
       "      <td>S</td>\n",
       "      <td>131.52</td>\n",
       "    </tr>\n",
       "    <tr>\n",
       "      <th>3</th>\n",
       "      <td>0020201000</td>\n",
       "      <td>2019-01-04</td>\n",
       "      <td>X</td>\n",
       "      <td>2019-01-04</td>\n",
       "      <td>Z0009ETH</td>\n",
       "      <td>H</td>\n",
       "      <td>-2.33</td>\n",
       "    </tr>\n",
       "    <tr>\n",
       "      <th>4</th>\n",
       "      <td>0048110000</td>\n",
       "      <td>2019-01-19</td>\n",
       "      <td>X</td>\n",
       "      <td>2019-01-19</td>\n",
       "      <td>SBSBATCHVERA</td>\n",
       "      <td>S</td>\n",
       "      <td>168.00</td>\n",
       "    </tr>\n",
       "  </tbody>\n",
       "</table>\n",
       "</div>"
      ],
      "text/plain": [
       "   gl_account posting_calendar_date balance_sheet_account entry_calendar_date  \\\n",
       "0  0069614010            2019-01-15                   NaN          2019-01-15   \n",
       "1  0043060000            2019-01-11                     X          2019-01-11   \n",
       "2  0060101000            2019-01-24                   NaN          2019-01-24   \n",
       "3  0020201000            2019-01-04                     X          2019-01-04   \n",
       "4  0048110000            2019-01-19                     X          2019-01-19   \n",
       "\n",
       "     entered_by debit_credit_indicator  Amt_loc_Currency  \n",
       "0      Z0009EIA                      S            479.12  \n",
       "1   SYS_BIZTALK                      S             22.20  \n",
       "2      Z0009ETH                      S            131.52  \n",
       "3      Z0009ETH                      H             -2.33  \n",
       "4  SBSBATCHVERA                      S            168.00  "
      ]
     },
     "execution_count": 9,
     "metadata": {},
     "output_type": "execute_result"
    }
   ],
   "source": [
    "# data_txn = pd.read_csv('s3://gbs-gl-predictive-staging-dev/gl-predictive-analytics/stats/are=9462/end_balances/data_txn.csv1')\n",
    "data_txn = pd.read_csv('/home/ec2-user/SageMaker/data-science-ending-balance/code/data-science/02-preprocessing/data_txn.csv')\n",
    "data_txn.head()"
   ]
  },
  {
   "cell_type": "code",
   "execution_count": 10,
   "metadata": {},
   "outputs": [],
   "source": [
    "# pip list"
   ]
  },
  {
   "cell_type": "code",
   "execution_count": 11,
   "metadata": {},
   "outputs": [
    {
     "data": {
      "text/plain": [
       "gl_account                 object\n",
       "posting_calendar_date      object\n",
       "balance_sheet_account      object\n",
       "entry_calendar_date        object\n",
       "entered_by                 object\n",
       "debit_credit_indicator     object\n",
       "Amt_loc_Currency          float64\n",
       "dtype: object"
      ]
     },
     "execution_count": 11,
     "metadata": {},
     "output_type": "execute_result"
    }
   ],
   "source": [
    "data_txn.dtypes"
   ]
  },
  {
   "cell_type": "code",
   "execution_count": 12,
   "metadata": {},
   "outputs": [],
   "source": [
    "# list_posting_dates = data_txn.posting_calendar_date.unique()\n",
    "# # list_gl_ac_post_excl = df_AC_post_exclusions.gl_account.unique()\n",
    "# list_posting_dates"
   ]
  },
  {
   "cell_type": "code",
   "execution_count": 13,
   "metadata": {},
   "outputs": [],
   "source": [
    "# list_entry_dates = data_txn.entry_calendar_date.unique()\n",
    "# # list_gl_ac_post_excl = df_AC_post_exclusions.gl_account.unique()\n",
    "# list_entry_dates"
   ]
  },
  {
   "cell_type": "code",
   "execution_count": 14,
   "metadata": {},
   "outputs": [],
   "source": [
    "# converting text to dates wehre required\n",
    "data_txn[\"entry_calendar_date\"] = pd.to_datetime(data_txn[\"entry_calendar_date\"]) # ParserError: Unknown string format: USD\n",
    "data_txn[\"posting_calendar_date\"] = pd.to_datetime(data_txn[\"posting_calendar_date\"]) # not likely a string"
   ]
  },
  {
   "cell_type": "code",
   "execution_count": 15,
   "metadata": {},
   "outputs": [
    {
     "data": {
      "text/plain": [
       "gl_account                        object\n",
       "posting_calendar_date     datetime64[ns]\n",
       "balance_sheet_account             object\n",
       "entry_calendar_date       datetime64[ns]\n",
       "entered_by                        object\n",
       "debit_credit_indicator            object\n",
       "Amt_loc_Currency                 float64\n",
       "dtype: object"
      ]
     },
     "execution_count": 15,
     "metadata": {},
     "output_type": "execute_result"
    }
   ],
   "source": [
    "data_txn.dtypes"
   ]
  },
  {
   "cell_type": "code",
   "execution_count": 16,
   "metadata": {},
   "outputs": [
    {
     "data": {
      "text/plain": [
       "(9705113, 7)"
      ]
     },
     "execution_count": 16,
     "metadata": {},
     "output_type": "execute_result"
    }
   ],
   "source": [
    "data_txn.shape"
   ]
  },
  {
   "cell_type": "markdown",
   "metadata": {},
   "source": [
    "# Difference of months between posting and entry dates"
   ]
  },
  {
   "cell_type": "code",
   "execution_count": 17,
   "metadata": {},
   "outputs": [],
   "source": [
    "#data_example = data_txn.loc[data_txn[\"gl_account\"] ==\"0067593000\"]"
   ]
  },
  {
   "cell_type": "markdown",
   "metadata": {},
   "source": [
    "#### Flag transactions that were entered later "
   ]
  },
  {
   "cell_type": "code",
   "execution_count": 18,
   "metadata": {},
   "outputs": [
    {
     "data": {
      "text/html": [
       "<div>\n",
       "<style scoped>\n",
       "    .dataframe tbody tr th:only-of-type {\n",
       "        vertical-align: middle;\n",
       "    }\n",
       "\n",
       "    .dataframe tbody tr th {\n",
       "        vertical-align: top;\n",
       "    }\n",
       "\n",
       "    .dataframe thead th {\n",
       "        text-align: right;\n",
       "    }\n",
       "</style>\n",
       "<table border=\"1\" class=\"dataframe\">\n",
       "  <thead>\n",
       "    <tr style=\"text-align: right;\">\n",
       "      <th></th>\n",
       "      <th>gl_account</th>\n",
       "      <th>posting_calendar_date</th>\n",
       "      <th>balance_sheet_account</th>\n",
       "      <th>entry_calendar_date</th>\n",
       "      <th>entered_by</th>\n",
       "      <th>debit_credit_indicator</th>\n",
       "      <th>Amt_loc_Currency</th>\n",
       "      <th>month_of_posting</th>\n",
       "      <th>month_of_entry</th>\n",
       "      <th>delay_cnt</th>\n",
       "    </tr>\n",
       "  </thead>\n",
       "  <tbody>\n",
       "    <tr>\n",
       "      <th>0</th>\n",
       "      <td>0069614010</td>\n",
       "      <td>2019-01-15</td>\n",
       "      <td>NaN</td>\n",
       "      <td>2019-01-15</td>\n",
       "      <td>Z0009EIA</td>\n",
       "      <td>S</td>\n",
       "      <td>479.12</td>\n",
       "      <td>2019-01-31</td>\n",
       "      <td>2019-01-31</td>\n",
       "      <td>0 days</td>\n",
       "    </tr>\n",
       "    <tr>\n",
       "      <th>1</th>\n",
       "      <td>0043060000</td>\n",
       "      <td>2019-01-11</td>\n",
       "      <td>X</td>\n",
       "      <td>2019-01-11</td>\n",
       "      <td>SYS_BIZTALK</td>\n",
       "      <td>S</td>\n",
       "      <td>22.20</td>\n",
       "      <td>2019-01-31</td>\n",
       "      <td>2019-01-31</td>\n",
       "      <td>0 days</td>\n",
       "    </tr>\n",
       "    <tr>\n",
       "      <th>2</th>\n",
       "      <td>0060101000</td>\n",
       "      <td>2019-01-24</td>\n",
       "      <td>NaN</td>\n",
       "      <td>2019-01-24</td>\n",
       "      <td>Z0009ETH</td>\n",
       "      <td>S</td>\n",
       "      <td>131.52</td>\n",
       "      <td>2019-01-31</td>\n",
       "      <td>2019-01-31</td>\n",
       "      <td>0 days</td>\n",
       "    </tr>\n",
       "    <tr>\n",
       "      <th>3</th>\n",
       "      <td>0020201000</td>\n",
       "      <td>2019-01-04</td>\n",
       "      <td>X</td>\n",
       "      <td>2019-01-04</td>\n",
       "      <td>Z0009ETH</td>\n",
       "      <td>H</td>\n",
       "      <td>-2.33</td>\n",
       "      <td>2019-01-31</td>\n",
       "      <td>2019-01-31</td>\n",
       "      <td>0 days</td>\n",
       "    </tr>\n",
       "    <tr>\n",
       "      <th>4</th>\n",
       "      <td>0048110000</td>\n",
       "      <td>2019-01-19</td>\n",
       "      <td>X</td>\n",
       "      <td>2019-01-19</td>\n",
       "      <td>SBSBATCHVERA</td>\n",
       "      <td>S</td>\n",
       "      <td>168.00</td>\n",
       "      <td>2019-01-31</td>\n",
       "      <td>2019-01-31</td>\n",
       "      <td>0 days</td>\n",
       "    </tr>\n",
       "  </tbody>\n",
       "</table>\n",
       "</div>"
      ],
      "text/plain": [
       "   gl_account posting_calendar_date balance_sheet_account entry_calendar_date  \\\n",
       "0  0069614010            2019-01-15                   NaN          2019-01-15   \n",
       "1  0043060000            2019-01-11                     X          2019-01-11   \n",
       "2  0060101000            2019-01-24                   NaN          2019-01-24   \n",
       "3  0020201000            2019-01-04                     X          2019-01-04   \n",
       "4  0048110000            2019-01-19                     X          2019-01-19   \n",
       "\n",
       "     entered_by debit_credit_indicator  Amt_loc_Currency month_of_posting  \\\n",
       "0      Z0009EIA                      S            479.12       2019-01-31   \n",
       "1   SYS_BIZTALK                      S             22.20       2019-01-31   \n",
       "2      Z0009ETH                      S            131.52       2019-01-31   \n",
       "3      Z0009ETH                      H             -2.33       2019-01-31   \n",
       "4  SBSBATCHVERA                      S            168.00       2019-01-31   \n",
       "\n",
       "  month_of_entry delay_cnt  \n",
       "0     2019-01-31    0 days  \n",
       "1     2019-01-31    0 days  \n",
       "2     2019-01-31    0 days  \n",
       "3     2019-01-31    0 days  \n",
       "4     2019-01-31    0 days  "
      ]
     },
     "execution_count": 18,
     "metadata": {},
     "output_type": "execute_result"
    }
   ],
   "source": [
    "# convert entry_date and posting date to entry month and posting month \n",
    "import datetime\n",
    "data_txn['month_of_posting'] = data_txn['posting_calendar_date'] + pd.offsets.MonthEnd(0) \n",
    "data_txn['month_of_entry'] = data_txn['entry_calendar_date']  + pd.offsets.MonthEnd(0) \n",
    "data_txn['delay_cnt'] = data_txn['month_of_entry'] - data_txn['month_of_posting'] \n",
    "data_txn.head(5)"
   ]
  },
  {
   "cell_type": "code",
   "execution_count": 19,
   "metadata": {
    "scrolled": true
   },
   "outputs": [
    {
     "data": {
      "text/html": [
       "<div>\n",
       "<style scoped>\n",
       "    .dataframe tbody tr th:only-of-type {\n",
       "        vertical-align: middle;\n",
       "    }\n",
       "\n",
       "    .dataframe tbody tr th {\n",
       "        vertical-align: top;\n",
       "    }\n",
       "\n",
       "    .dataframe thead th {\n",
       "        text-align: right;\n",
       "    }\n",
       "</style>\n",
       "<table border=\"1\" class=\"dataframe\">\n",
       "  <thead>\n",
       "    <tr style=\"text-align: right;\">\n",
       "      <th></th>\n",
       "      <th>entry_calendar_date</th>\n",
       "      <th>posting_calendar_date</th>\n",
       "      <th>delay_cnt</th>\n",
       "      <th>late_entry_flg</th>\n",
       "    </tr>\n",
       "  </thead>\n",
       "  <tbody>\n",
       "    <tr>\n",
       "      <th>0</th>\n",
       "      <td>2019-01-15</td>\n",
       "      <td>2019-01-15</td>\n",
       "      <td>0 days</td>\n",
       "      <td>0</td>\n",
       "    </tr>\n",
       "    <tr>\n",
       "      <th>1</th>\n",
       "      <td>2019-01-11</td>\n",
       "      <td>2019-01-11</td>\n",
       "      <td>0 days</td>\n",
       "      <td>0</td>\n",
       "    </tr>\n",
       "    <tr>\n",
       "      <th>2</th>\n",
       "      <td>2019-01-24</td>\n",
       "      <td>2019-01-24</td>\n",
       "      <td>0 days</td>\n",
       "      <td>0</td>\n",
       "    </tr>\n",
       "    <tr>\n",
       "      <th>3</th>\n",
       "      <td>2019-01-04</td>\n",
       "      <td>2019-01-04</td>\n",
       "      <td>0 days</td>\n",
       "      <td>0</td>\n",
       "    </tr>\n",
       "    <tr>\n",
       "      <th>4</th>\n",
       "      <td>2019-01-19</td>\n",
       "      <td>2019-01-19</td>\n",
       "      <td>0 days</td>\n",
       "      <td>0</td>\n",
       "    </tr>\n",
       "  </tbody>\n",
       "</table>\n",
       "</div>"
      ],
      "text/plain": [
       "  entry_calendar_date posting_calendar_date delay_cnt  late_entry_flg\n",
       "0          2019-01-15            2019-01-15    0 days               0\n",
       "1          2019-01-11            2019-01-11    0 days               0\n",
       "2          2019-01-24            2019-01-24    0 days               0\n",
       "3          2019-01-04            2019-01-04    0 days               0\n",
       "4          2019-01-19            2019-01-19    0 days               0"
      ]
     },
     "execution_count": 19,
     "metadata": {},
     "output_type": "execute_result"
    }
   ],
   "source": [
    "data_txn['late_entry_flg'] = np.where(data_txn['month_of_entry']> data_txn['month_of_posting'], 1, 0)\n",
    "data_txn[['entry_calendar_date', 'posting_calendar_date', 'delay_cnt', 'late_entry_flg']].head(5)"
   ]
  },
  {
   "cell_type": "code",
   "execution_count": 20,
   "metadata": {},
   "outputs": [
    {
     "data": {
      "text/plain": [
       "(9705113, 11)"
      ]
     },
     "execution_count": 20,
     "metadata": {},
     "output_type": "execute_result"
    }
   ],
   "source": [
    "data_txn.shape"
   ]
  },
  {
   "cell_type": "code",
   "execution_count": 21,
   "metadata": {},
   "outputs": [
    {
     "data": {
      "text/html": [
       "<div>\n",
       "<style scoped>\n",
       "    .dataframe tbody tr th:only-of-type {\n",
       "        vertical-align: middle;\n",
       "    }\n",
       "\n",
       "    .dataframe tbody tr th {\n",
       "        vertical-align: top;\n",
       "    }\n",
       "\n",
       "    .dataframe thead th {\n",
       "        text-align: right;\n",
       "    }\n",
       "</style>\n",
       "<table border=\"1\" class=\"dataframe\">\n",
       "  <thead>\n",
       "    <tr style=\"text-align: right;\">\n",
       "      <th></th>\n",
       "      <th>gl_account</th>\n",
       "      <th>posting_calendar_date</th>\n",
       "      <th>balance_sheet_account</th>\n",
       "      <th>entry_calendar_date</th>\n",
       "      <th>entered_by</th>\n",
       "      <th>debit_credit_indicator</th>\n",
       "      <th>Amt_loc_Currency</th>\n",
       "      <th>month_of_posting</th>\n",
       "      <th>month_of_entry</th>\n",
       "      <th>delay_cnt</th>\n",
       "      <th>late_entry_flg</th>\n",
       "    </tr>\n",
       "  </thead>\n",
       "  <tbody>\n",
       "    <tr>\n",
       "      <th>515</th>\n",
       "      <td>0061000050</td>\n",
       "      <td>2019-01-13</td>\n",
       "      <td>NaN</td>\n",
       "      <td>2019-02-05</td>\n",
       "      <td>SYS_BIZTALK</td>\n",
       "      <td>S</td>\n",
       "      <td>717.60</td>\n",
       "      <td>2019-01-31</td>\n",
       "      <td>2019-02-28</td>\n",
       "      <td>28 days</td>\n",
       "      <td>1</td>\n",
       "    </tr>\n",
       "    <tr>\n",
       "      <th>858</th>\n",
       "      <td>0043051000</td>\n",
       "      <td>2019-01-21</td>\n",
       "      <td>X</td>\n",
       "      <td>2019-02-04</td>\n",
       "      <td>SYS_BIZTALK</td>\n",
       "      <td>S</td>\n",
       "      <td>904.16</td>\n",
       "      <td>2019-01-31</td>\n",
       "      <td>2019-02-28</td>\n",
       "      <td>28 days</td>\n",
       "      <td>1</td>\n",
       "    </tr>\n",
       "    <tr>\n",
       "      <th>1176</th>\n",
       "      <td>0043051000</td>\n",
       "      <td>2019-01-03</td>\n",
       "      <td>X</td>\n",
       "      <td>2019-02-04</td>\n",
       "      <td>Z003XMKK</td>\n",
       "      <td>S</td>\n",
       "      <td>646.34</td>\n",
       "      <td>2019-01-31</td>\n",
       "      <td>2019-02-28</td>\n",
       "      <td>28 days</td>\n",
       "      <td>1</td>\n",
       "    </tr>\n",
       "    <tr>\n",
       "      <th>1622</th>\n",
       "      <td>0061000050</td>\n",
       "      <td>2019-01-24</td>\n",
       "      <td>NaN</td>\n",
       "      <td>2019-02-04</td>\n",
       "      <td>SYS_BIZTALK</td>\n",
       "      <td>S</td>\n",
       "      <td>296.08</td>\n",
       "      <td>2019-01-31</td>\n",
       "      <td>2019-02-28</td>\n",
       "      <td>28 days</td>\n",
       "      <td>1</td>\n",
       "    </tr>\n",
       "    <tr>\n",
       "      <th>1714</th>\n",
       "      <td>0043060000</td>\n",
       "      <td>2019-01-09</td>\n",
       "      <td>X</td>\n",
       "      <td>2019-02-04</td>\n",
       "      <td>SYS_BIZTALK</td>\n",
       "      <td>S</td>\n",
       "      <td>222.06</td>\n",
       "      <td>2019-01-31</td>\n",
       "      <td>2019-02-28</td>\n",
       "      <td>28 days</td>\n",
       "      <td>1</td>\n",
       "    </tr>\n",
       "    <tr>\n",
       "      <th>...</th>\n",
       "      <td>...</td>\n",
       "      <td>...</td>\n",
       "      <td>...</td>\n",
       "      <td>...</td>\n",
       "      <td>...</td>\n",
       "      <td>...</td>\n",
       "      <td>...</td>\n",
       "      <td>...</td>\n",
       "      <td>...</td>\n",
       "      <td>...</td>\n",
       "      <td>...</td>\n",
       "    </tr>\n",
       "    <tr>\n",
       "      <th>9636105</th>\n",
       "      <td>0043060000</td>\n",
       "      <td>2020-01-24</td>\n",
       "      <td>X</td>\n",
       "      <td>2020-02-03</td>\n",
       "      <td>SYS_BIZTALK</td>\n",
       "      <td>H</td>\n",
       "      <td>-607.12</td>\n",
       "      <td>2020-01-31</td>\n",
       "      <td>2020-02-29</td>\n",
       "      <td>29 days</td>\n",
       "      <td>1</td>\n",
       "    </tr>\n",
       "    <tr>\n",
       "      <th>9643820</th>\n",
       "      <td>0043051000</td>\n",
       "      <td>2020-01-24</td>\n",
       "      <td>X</td>\n",
       "      <td>2020-02-03</td>\n",
       "      <td>SYS_BIZTALK</td>\n",
       "      <td>S</td>\n",
       "      <td>607.12</td>\n",
       "      <td>2020-01-31</td>\n",
       "      <td>2020-02-29</td>\n",
       "      <td>29 days</td>\n",
       "      <td>1</td>\n",
       "    </tr>\n",
       "    <tr>\n",
       "      <th>9646244</th>\n",
       "      <td>0043060000</td>\n",
       "      <td>2020-01-23</td>\n",
       "      <td>X</td>\n",
       "      <td>2020-02-03</td>\n",
       "      <td>SYS_BIZTALK</td>\n",
       "      <td>H</td>\n",
       "      <td>-367.85</td>\n",
       "      <td>2020-01-31</td>\n",
       "      <td>2020-02-29</td>\n",
       "      <td>29 days</td>\n",
       "      <td>1</td>\n",
       "    </tr>\n",
       "    <tr>\n",
       "      <th>9659092</th>\n",
       "      <td>0061790000</td>\n",
       "      <td>2020-01-26</td>\n",
       "      <td>NaN</td>\n",
       "      <td>2020-02-03</td>\n",
       "      <td>Z002CJ8V</td>\n",
       "      <td>S</td>\n",
       "      <td>145.83</td>\n",
       "      <td>2020-01-31</td>\n",
       "      <td>2020-02-29</td>\n",
       "      <td>29 days</td>\n",
       "      <td>1</td>\n",
       "    </tr>\n",
       "    <tr>\n",
       "      <th>9673451</th>\n",
       "      <td>0043051000</td>\n",
       "      <td>2020-01-23</td>\n",
       "      <td>X</td>\n",
       "      <td>2020-02-03</td>\n",
       "      <td>SYS_BIZTALK</td>\n",
       "      <td>S</td>\n",
       "      <td>367.85</td>\n",
       "      <td>2020-01-31</td>\n",
       "      <td>2020-02-29</td>\n",
       "      <td>29 days</td>\n",
       "      <td>1</td>\n",
       "    </tr>\n",
       "  </tbody>\n",
       "</table>\n",
       "<p>328447 rows × 11 columns</p>\n",
       "</div>"
      ],
      "text/plain": [
       "         gl_account posting_calendar_date balance_sheet_account  \\\n",
       "515      0061000050            2019-01-13                   NaN   \n",
       "858      0043051000            2019-01-21                     X   \n",
       "1176     0043051000            2019-01-03                     X   \n",
       "1622     0061000050            2019-01-24                   NaN   \n",
       "1714     0043060000            2019-01-09                     X   \n",
       "...             ...                   ...                   ...   \n",
       "9636105  0043060000            2020-01-24                     X   \n",
       "9643820  0043051000            2020-01-24                     X   \n",
       "9646244  0043060000            2020-01-23                     X   \n",
       "9659092  0061790000            2020-01-26                   NaN   \n",
       "9673451  0043051000            2020-01-23                     X   \n",
       "\n",
       "        entry_calendar_date   entered_by debit_credit_indicator  \\\n",
       "515              2019-02-05  SYS_BIZTALK                      S   \n",
       "858              2019-02-04  SYS_BIZTALK                      S   \n",
       "1176             2019-02-04     Z003XMKK                      S   \n",
       "1622             2019-02-04  SYS_BIZTALK                      S   \n",
       "1714             2019-02-04  SYS_BIZTALK                      S   \n",
       "...                     ...          ...                    ...   \n",
       "9636105          2020-02-03  SYS_BIZTALK                      H   \n",
       "9643820          2020-02-03  SYS_BIZTALK                      S   \n",
       "9646244          2020-02-03  SYS_BIZTALK                      H   \n",
       "9659092          2020-02-03     Z002CJ8V                      S   \n",
       "9673451          2020-02-03  SYS_BIZTALK                      S   \n",
       "\n",
       "         Amt_loc_Currency month_of_posting month_of_entry delay_cnt  \\\n",
       "515                717.60       2019-01-31     2019-02-28   28 days   \n",
       "858                904.16       2019-01-31     2019-02-28   28 days   \n",
       "1176               646.34       2019-01-31     2019-02-28   28 days   \n",
       "1622               296.08       2019-01-31     2019-02-28   28 days   \n",
       "1714               222.06       2019-01-31     2019-02-28   28 days   \n",
       "...                   ...              ...            ...       ...   \n",
       "9636105           -607.12       2020-01-31     2020-02-29   29 days   \n",
       "9643820            607.12       2020-01-31     2020-02-29   29 days   \n",
       "9646244           -367.85       2020-01-31     2020-02-29   29 days   \n",
       "9659092            145.83       2020-01-31     2020-02-29   29 days   \n",
       "9673451            367.85       2020-01-31     2020-02-29   29 days   \n",
       "\n",
       "         late_entry_flg  \n",
       "515                   1  \n",
       "858                   1  \n",
       "1176                  1  \n",
       "1622                  1  \n",
       "1714                  1  \n",
       "...                 ...  \n",
       "9636105               1  \n",
       "9643820               1  \n",
       "9646244               1  \n",
       "9659092               1  \n",
       "9673451               1  \n",
       "\n",
       "[328447 rows x 11 columns]"
      ]
     },
     "execution_count": 21,
     "metadata": {},
     "output_type": "execute_result"
    }
   ],
   "source": [
    "data_txn[data_txn['late_entry_flg']==1]"
   ]
  },
  {
   "cell_type": "markdown",
   "metadata": {},
   "source": [
    "### Number of accounts with late entry flags"
   ]
  },
  {
   "cell_type": "code",
   "execution_count": 22,
   "metadata": {},
   "outputs": [
    {
     "ename": "MemoryError",
     "evalue": "Unable to allocate 148. MiB for an array with shape (2, 9705113) and data type int64",
     "output_type": "error",
     "traceback": [
      "\u001b[0;31m---------------------------------------------------------------------------\u001b[0m",
      "\u001b[0;31mMemoryError\u001b[0m                               Traceback (most recent call last)",
      "\u001b[0;32m<ipython-input-22-ef70a2021682>\u001b[0m in \u001b[0;36m<module>\u001b[0;34m\u001b[0m\n\u001b[1;32m      1\u001b[0m \u001b[0;31m#data_txn['delay_cnt']\u001b[0m\u001b[0;34m\u001b[0m\u001b[0;34m\u001b[0m\u001b[0;34m\u001b[0m\u001b[0m\n\u001b[1;32m      2\u001b[0m cnt_bl_ac = pd.crosstab(index=data_txn[\"late_entry_flg\"].fillna('missing'),  # Make a crosstab\n\u001b[0;32m----> 3\u001b[0;31m                       columns=\"count\") \n\u001b[0m\u001b[1;32m      4\u001b[0m \u001b[0mcnt_bl_ac\u001b[0m\u001b[0;34m\u001b[0m\u001b[0;34m\u001b[0m\u001b[0m\n",
      "\u001b[0;32m~/anaconda3/envs/python3/lib/python3.6/site-packages/pandas/core/reshape/pivot.py\u001b[0m in \u001b[0;36mcrosstab\u001b[0;34m(index, columns, values, rownames, colnames, aggfunc, margins, margins_name, dropna, normalize)\u001b[0m\n\u001b[1;32m    594\u001b[0m         \u001b[0mmargins_name\u001b[0m\u001b[0;34m=\u001b[0m\u001b[0mmargins_name\u001b[0m\u001b[0;34m,\u001b[0m\u001b[0;34m\u001b[0m\u001b[0;34m\u001b[0m\u001b[0m\n\u001b[1;32m    595\u001b[0m         \u001b[0mdropna\u001b[0m\u001b[0;34m=\u001b[0m\u001b[0mdropna\u001b[0m\u001b[0;34m,\u001b[0m\u001b[0;34m\u001b[0m\u001b[0;34m\u001b[0m\u001b[0m\n\u001b[0;32m--> 596\u001b[0;31m         \u001b[0;34m**\u001b[0m\u001b[0mkwargs\u001b[0m\u001b[0;34m,\u001b[0m\u001b[0;34m\u001b[0m\u001b[0;34m\u001b[0m\u001b[0m\n\u001b[0m\u001b[1;32m    597\u001b[0m     )\n\u001b[1;32m    598\u001b[0m \u001b[0;34m\u001b[0m\u001b[0m\n",
      "\u001b[0;32m~/anaconda3/envs/python3/lib/python3.6/site-packages/pandas/core/frame.py\u001b[0m in \u001b[0;36mpivot_table\u001b[0;34m(self, values, index, columns, aggfunc, fill_value, margins, dropna, margins_name, observed)\u001b[0m\n\u001b[1;32m   6078\u001b[0m             \u001b[0mdropna\u001b[0m\u001b[0;34m=\u001b[0m\u001b[0mdropna\u001b[0m\u001b[0;34m,\u001b[0m\u001b[0;34m\u001b[0m\u001b[0;34m\u001b[0m\u001b[0m\n\u001b[1;32m   6079\u001b[0m             \u001b[0mmargins_name\u001b[0m\u001b[0;34m=\u001b[0m\u001b[0mmargins_name\u001b[0m\u001b[0;34m,\u001b[0m\u001b[0;34m\u001b[0m\u001b[0;34m\u001b[0m\u001b[0m\n\u001b[0;32m-> 6080\u001b[0;31m             \u001b[0mobserved\u001b[0m\u001b[0;34m=\u001b[0m\u001b[0mobserved\u001b[0m\u001b[0;34m,\u001b[0m\u001b[0;34m\u001b[0m\u001b[0;34m\u001b[0m\u001b[0m\n\u001b[0m\u001b[1;32m   6081\u001b[0m         )\n\u001b[1;32m   6082\u001b[0m \u001b[0;34m\u001b[0m\u001b[0m\n",
      "\u001b[0;32m~/anaconda3/envs/python3/lib/python3.6/site-packages/pandas/core/reshape/pivot.py\u001b[0m in \u001b[0;36mpivot_table\u001b[0;34m(data, values, index, columns, aggfunc, fill_value, margins, dropna, margins_name, observed)\u001b[0m\n\u001b[1;32m     98\u001b[0m         \u001b[0mvalues\u001b[0m \u001b[0;34m=\u001b[0m \u001b[0mlist\u001b[0m\u001b[0;34m(\u001b[0m\u001b[0mvalues\u001b[0m\u001b[0;34m)\u001b[0m\u001b[0;34m\u001b[0m\u001b[0;34m\u001b[0m\u001b[0m\n\u001b[1;32m     99\u001b[0m \u001b[0;34m\u001b[0m\u001b[0m\n\u001b[0;32m--> 100\u001b[0;31m     \u001b[0mgrouped\u001b[0m \u001b[0;34m=\u001b[0m \u001b[0mdata\u001b[0m\u001b[0;34m.\u001b[0m\u001b[0mgroupby\u001b[0m\u001b[0;34m(\u001b[0m\u001b[0mkeys\u001b[0m\u001b[0;34m,\u001b[0m \u001b[0mobserved\u001b[0m\u001b[0;34m=\u001b[0m\u001b[0mobserved\u001b[0m\u001b[0;34m)\u001b[0m\u001b[0;34m\u001b[0m\u001b[0;34m\u001b[0m\u001b[0m\n\u001b[0m\u001b[1;32m    101\u001b[0m     \u001b[0magged\u001b[0m \u001b[0;34m=\u001b[0m \u001b[0mgrouped\u001b[0m\u001b[0;34m.\u001b[0m\u001b[0magg\u001b[0m\u001b[0;34m(\u001b[0m\u001b[0maggfunc\u001b[0m\u001b[0;34m)\u001b[0m\u001b[0;34m\u001b[0m\u001b[0;34m\u001b[0m\u001b[0m\n\u001b[1;32m    102\u001b[0m     \u001b[0;32mif\u001b[0m \u001b[0mdropna\u001b[0m \u001b[0;32mand\u001b[0m \u001b[0misinstance\u001b[0m\u001b[0;34m(\u001b[0m\u001b[0magged\u001b[0m\u001b[0;34m,\u001b[0m \u001b[0mABCDataFrame\u001b[0m\u001b[0;34m)\u001b[0m \u001b[0;32mand\u001b[0m \u001b[0mlen\u001b[0m\u001b[0;34m(\u001b[0m\u001b[0magged\u001b[0m\u001b[0;34m.\u001b[0m\u001b[0mcolumns\u001b[0m\u001b[0;34m)\u001b[0m\u001b[0;34m:\u001b[0m\u001b[0;34m\u001b[0m\u001b[0;34m\u001b[0m\u001b[0m\n",
      "\u001b[0;32m~/anaconda3/envs/python3/lib/python3.6/site-packages/pandas/core/frame.py\u001b[0m in \u001b[0;36mgroupby\u001b[0;34m(self, by, axis, level, as_index, sort, group_keys, squeeze, observed)\u001b[0m\n\u001b[1;32m   5808\u001b[0m             \u001b[0mgroup_keys\u001b[0m\u001b[0;34m=\u001b[0m\u001b[0mgroup_keys\u001b[0m\u001b[0;34m,\u001b[0m\u001b[0;34m\u001b[0m\u001b[0;34m\u001b[0m\u001b[0m\n\u001b[1;32m   5809\u001b[0m             \u001b[0msqueeze\u001b[0m\u001b[0;34m=\u001b[0m\u001b[0msqueeze\u001b[0m\u001b[0;34m,\u001b[0m\u001b[0;34m\u001b[0m\u001b[0;34m\u001b[0m\u001b[0m\n\u001b[0;32m-> 5810\u001b[0;31m             \u001b[0mobserved\u001b[0m\u001b[0;34m=\u001b[0m\u001b[0mobserved\u001b[0m\u001b[0;34m,\u001b[0m\u001b[0;34m\u001b[0m\u001b[0;34m\u001b[0m\u001b[0m\n\u001b[0m\u001b[1;32m   5811\u001b[0m         )\n\u001b[1;32m   5812\u001b[0m \u001b[0;34m\u001b[0m\u001b[0m\n",
      "\u001b[0;32m~/anaconda3/envs/python3/lib/python3.6/site-packages/pandas/core/groupby/groupby.py\u001b[0m in \u001b[0;36m__init__\u001b[0;34m(self, obj, keys, axis, level, grouper, exclusions, selection, as_index, sort, group_keys, squeeze, observed, mutated)\u001b[0m\n\u001b[1;32m    379\u001b[0m \u001b[0;34m\u001b[0m\u001b[0m\n\u001b[1;32m    380\u001b[0m         \u001b[0;32massert\u001b[0m \u001b[0misinstance\u001b[0m\u001b[0;34m(\u001b[0m\u001b[0mobj\u001b[0m\u001b[0;34m,\u001b[0m \u001b[0mNDFrame\u001b[0m\u001b[0;34m)\u001b[0m\u001b[0;34m,\u001b[0m \u001b[0mtype\u001b[0m\u001b[0;34m(\u001b[0m\u001b[0mobj\u001b[0m\u001b[0;34m)\u001b[0m\u001b[0;34m\u001b[0m\u001b[0;34m\u001b[0m\u001b[0m\n\u001b[0;32m--> 381\u001b[0;31m         \u001b[0mobj\u001b[0m\u001b[0;34m.\u001b[0m\u001b[0m_consolidate_inplace\u001b[0m\u001b[0;34m(\u001b[0m\u001b[0;34m)\u001b[0m\u001b[0;34m\u001b[0m\u001b[0;34m\u001b[0m\u001b[0m\n\u001b[0m\u001b[1;32m    382\u001b[0m \u001b[0;34m\u001b[0m\u001b[0m\n\u001b[1;32m    383\u001b[0m         \u001b[0mself\u001b[0m\u001b[0;34m.\u001b[0m\u001b[0mlevel\u001b[0m \u001b[0;34m=\u001b[0m \u001b[0mlevel\u001b[0m\u001b[0;34m\u001b[0m\u001b[0;34m\u001b[0m\u001b[0m\n",
      "\u001b[0;32m~/anaconda3/envs/python3/lib/python3.6/site-packages/pandas/core/generic.py\u001b[0m in \u001b[0;36m_consolidate_inplace\u001b[0;34m(self)\u001b[0m\n\u001b[1;32m   5345\u001b[0m             \u001b[0mself\u001b[0m\u001b[0;34m.\u001b[0m\u001b[0m_data\u001b[0m \u001b[0;34m=\u001b[0m \u001b[0mself\u001b[0m\u001b[0;34m.\u001b[0m\u001b[0m_data\u001b[0m\u001b[0;34m.\u001b[0m\u001b[0mconsolidate\u001b[0m\u001b[0;34m(\u001b[0m\u001b[0;34m)\u001b[0m\u001b[0;34m\u001b[0m\u001b[0;34m\u001b[0m\u001b[0m\n\u001b[1;32m   5346\u001b[0m \u001b[0;34m\u001b[0m\u001b[0m\n\u001b[0;32m-> 5347\u001b[0;31m         \u001b[0mself\u001b[0m\u001b[0;34m.\u001b[0m\u001b[0m_protect_consolidate\u001b[0m\u001b[0;34m(\u001b[0m\u001b[0mf\u001b[0m\u001b[0;34m)\u001b[0m\u001b[0;34m\u001b[0m\u001b[0;34m\u001b[0m\u001b[0m\n\u001b[0m\u001b[1;32m   5348\u001b[0m \u001b[0;34m\u001b[0m\u001b[0m\n\u001b[1;32m   5349\u001b[0m     \u001b[0;32mdef\u001b[0m \u001b[0m_consolidate\u001b[0m\u001b[0;34m(\u001b[0m\u001b[0mself\u001b[0m\u001b[0;34m,\u001b[0m \u001b[0minplace\u001b[0m\u001b[0;34m:\u001b[0m \u001b[0mbool_t\u001b[0m \u001b[0;34m=\u001b[0m \u001b[0;32mFalse\u001b[0m\u001b[0;34m)\u001b[0m\u001b[0;34m:\u001b[0m\u001b[0;34m\u001b[0m\u001b[0;34m\u001b[0m\u001b[0m\n",
      "\u001b[0;32m~/anaconda3/envs/python3/lib/python3.6/site-packages/pandas/core/generic.py\u001b[0m in \u001b[0;36m_protect_consolidate\u001b[0;34m(self, f)\u001b[0m\n\u001b[1;32m   5334\u001b[0m         \"\"\"\n\u001b[1;32m   5335\u001b[0m         \u001b[0mblocks_before\u001b[0m \u001b[0;34m=\u001b[0m \u001b[0mlen\u001b[0m\u001b[0;34m(\u001b[0m\u001b[0mself\u001b[0m\u001b[0;34m.\u001b[0m\u001b[0m_data\u001b[0m\u001b[0;34m.\u001b[0m\u001b[0mblocks\u001b[0m\u001b[0;34m)\u001b[0m\u001b[0;34m\u001b[0m\u001b[0;34m\u001b[0m\u001b[0m\n\u001b[0;32m-> 5336\u001b[0;31m         \u001b[0mresult\u001b[0m \u001b[0;34m=\u001b[0m \u001b[0mf\u001b[0m\u001b[0;34m(\u001b[0m\u001b[0;34m)\u001b[0m\u001b[0;34m\u001b[0m\u001b[0;34m\u001b[0m\u001b[0m\n\u001b[0m\u001b[1;32m   5337\u001b[0m         \u001b[0;32mif\u001b[0m \u001b[0mlen\u001b[0m\u001b[0;34m(\u001b[0m\u001b[0mself\u001b[0m\u001b[0;34m.\u001b[0m\u001b[0m_data\u001b[0m\u001b[0;34m.\u001b[0m\u001b[0mblocks\u001b[0m\u001b[0;34m)\u001b[0m \u001b[0;34m!=\u001b[0m \u001b[0mblocks_before\u001b[0m\u001b[0;34m:\u001b[0m\u001b[0;34m\u001b[0m\u001b[0;34m\u001b[0m\u001b[0m\n\u001b[1;32m   5338\u001b[0m             \u001b[0mself\u001b[0m\u001b[0;34m.\u001b[0m\u001b[0m_clear_item_cache\u001b[0m\u001b[0;34m(\u001b[0m\u001b[0;34m)\u001b[0m\u001b[0;34m\u001b[0m\u001b[0;34m\u001b[0m\u001b[0m\n",
      "\u001b[0;32m~/anaconda3/envs/python3/lib/python3.6/site-packages/pandas/core/generic.py\u001b[0m in \u001b[0;36mf\u001b[0;34m()\u001b[0m\n\u001b[1;32m   5343\u001b[0m \u001b[0;34m\u001b[0m\u001b[0m\n\u001b[1;32m   5344\u001b[0m         \u001b[0;32mdef\u001b[0m \u001b[0mf\u001b[0m\u001b[0;34m(\u001b[0m\u001b[0;34m)\u001b[0m\u001b[0;34m:\u001b[0m\u001b[0;34m\u001b[0m\u001b[0;34m\u001b[0m\u001b[0m\n\u001b[0;32m-> 5345\u001b[0;31m             \u001b[0mself\u001b[0m\u001b[0;34m.\u001b[0m\u001b[0m_data\u001b[0m \u001b[0;34m=\u001b[0m \u001b[0mself\u001b[0m\u001b[0;34m.\u001b[0m\u001b[0m_data\u001b[0m\u001b[0;34m.\u001b[0m\u001b[0mconsolidate\u001b[0m\u001b[0;34m(\u001b[0m\u001b[0;34m)\u001b[0m\u001b[0;34m\u001b[0m\u001b[0;34m\u001b[0m\u001b[0m\n\u001b[0m\u001b[1;32m   5346\u001b[0m \u001b[0;34m\u001b[0m\u001b[0m\n\u001b[1;32m   5347\u001b[0m         \u001b[0mself\u001b[0m\u001b[0;34m.\u001b[0m\u001b[0m_protect_consolidate\u001b[0m\u001b[0;34m(\u001b[0m\u001b[0mf\u001b[0m\u001b[0;34m)\u001b[0m\u001b[0;34m\u001b[0m\u001b[0;34m\u001b[0m\u001b[0m\n",
      "\u001b[0;32m~/anaconda3/envs/python3/lib/python3.6/site-packages/pandas/core/internals/managers.py\u001b[0m in \u001b[0;36mconsolidate\u001b[0;34m(self)\u001b[0m\n\u001b[1;32m    938\u001b[0m         \u001b[0mbm\u001b[0m \u001b[0;34m=\u001b[0m \u001b[0mtype\u001b[0m\u001b[0;34m(\u001b[0m\u001b[0mself\u001b[0m\u001b[0;34m)\u001b[0m\u001b[0;34m(\u001b[0m\u001b[0mself\u001b[0m\u001b[0;34m.\u001b[0m\u001b[0mblocks\u001b[0m\u001b[0;34m,\u001b[0m \u001b[0mself\u001b[0m\u001b[0;34m.\u001b[0m\u001b[0maxes\u001b[0m\u001b[0;34m)\u001b[0m\u001b[0;34m\u001b[0m\u001b[0;34m\u001b[0m\u001b[0m\n\u001b[1;32m    939\u001b[0m         \u001b[0mbm\u001b[0m\u001b[0;34m.\u001b[0m\u001b[0m_is_consolidated\u001b[0m \u001b[0;34m=\u001b[0m \u001b[0;32mFalse\u001b[0m\u001b[0;34m\u001b[0m\u001b[0;34m\u001b[0m\u001b[0m\n\u001b[0;32m--> 940\u001b[0;31m         \u001b[0mbm\u001b[0m\u001b[0;34m.\u001b[0m\u001b[0m_consolidate_inplace\u001b[0m\u001b[0;34m(\u001b[0m\u001b[0;34m)\u001b[0m\u001b[0;34m\u001b[0m\u001b[0;34m\u001b[0m\u001b[0m\n\u001b[0m\u001b[1;32m    941\u001b[0m         \u001b[0;32mreturn\u001b[0m \u001b[0mbm\u001b[0m\u001b[0;34m\u001b[0m\u001b[0;34m\u001b[0m\u001b[0m\n\u001b[1;32m    942\u001b[0m \u001b[0;34m\u001b[0m\u001b[0m\n",
      "\u001b[0;32m~/anaconda3/envs/python3/lib/python3.6/site-packages/pandas/core/internals/managers.py\u001b[0m in \u001b[0;36m_consolidate_inplace\u001b[0;34m(self)\u001b[0m\n\u001b[1;32m    943\u001b[0m     \u001b[0;32mdef\u001b[0m \u001b[0m_consolidate_inplace\u001b[0m\u001b[0;34m(\u001b[0m\u001b[0mself\u001b[0m\u001b[0;34m)\u001b[0m\u001b[0;34m:\u001b[0m\u001b[0;34m\u001b[0m\u001b[0;34m\u001b[0m\u001b[0m\n\u001b[1;32m    944\u001b[0m         \u001b[0;32mif\u001b[0m \u001b[0;32mnot\u001b[0m \u001b[0mself\u001b[0m\u001b[0;34m.\u001b[0m\u001b[0mis_consolidated\u001b[0m\u001b[0;34m(\u001b[0m\u001b[0;34m)\u001b[0m\u001b[0;34m:\u001b[0m\u001b[0;34m\u001b[0m\u001b[0;34m\u001b[0m\u001b[0m\n\u001b[0;32m--> 945\u001b[0;31m             \u001b[0mself\u001b[0m\u001b[0;34m.\u001b[0m\u001b[0mblocks\u001b[0m \u001b[0;34m=\u001b[0m \u001b[0mtuple\u001b[0m\u001b[0;34m(\u001b[0m\u001b[0m_consolidate\u001b[0m\u001b[0;34m(\u001b[0m\u001b[0mself\u001b[0m\u001b[0;34m.\u001b[0m\u001b[0mblocks\u001b[0m\u001b[0;34m)\u001b[0m\u001b[0;34m)\u001b[0m\u001b[0;34m\u001b[0m\u001b[0;34m\u001b[0m\u001b[0m\n\u001b[0m\u001b[1;32m    946\u001b[0m             \u001b[0mself\u001b[0m\u001b[0;34m.\u001b[0m\u001b[0m_is_consolidated\u001b[0m \u001b[0;34m=\u001b[0m \u001b[0;32mTrue\u001b[0m\u001b[0;34m\u001b[0m\u001b[0;34m\u001b[0m\u001b[0m\n\u001b[1;32m    947\u001b[0m             \u001b[0mself\u001b[0m\u001b[0;34m.\u001b[0m\u001b[0m_known_consolidated\u001b[0m \u001b[0;34m=\u001b[0m \u001b[0;32mTrue\u001b[0m\u001b[0;34m\u001b[0m\u001b[0;34m\u001b[0m\u001b[0m\n",
      "\u001b[0;32m~/anaconda3/envs/python3/lib/python3.6/site-packages/pandas/core/internals/managers.py\u001b[0m in \u001b[0;36m_consolidate\u001b[0;34m(blocks)\u001b[0m\n\u001b[1;32m   1885\u001b[0m     \u001b[0;32mfor\u001b[0m \u001b[0;34m(\u001b[0m\u001b[0m_can_consolidate\u001b[0m\u001b[0;34m,\u001b[0m \u001b[0mdtype\u001b[0m\u001b[0;34m)\u001b[0m\u001b[0;34m,\u001b[0m \u001b[0mgroup_blocks\u001b[0m \u001b[0;32min\u001b[0m \u001b[0mgrouper\u001b[0m\u001b[0;34m:\u001b[0m\u001b[0;34m\u001b[0m\u001b[0;34m\u001b[0m\u001b[0m\n\u001b[1;32m   1886\u001b[0m         merged_blocks = _merge_blocks(\n\u001b[0;32m-> 1887\u001b[0;31m             \u001b[0mlist\u001b[0m\u001b[0;34m(\u001b[0m\u001b[0mgroup_blocks\u001b[0m\u001b[0;34m)\u001b[0m\u001b[0;34m,\u001b[0m \u001b[0mdtype\u001b[0m\u001b[0;34m=\u001b[0m\u001b[0mdtype\u001b[0m\u001b[0;34m,\u001b[0m \u001b[0m_can_consolidate\u001b[0m\u001b[0;34m=\u001b[0m\u001b[0m_can_consolidate\u001b[0m\u001b[0;34m\u001b[0m\u001b[0;34m\u001b[0m\u001b[0m\n\u001b[0m\u001b[1;32m   1888\u001b[0m         )\n\u001b[1;32m   1889\u001b[0m         \u001b[0mnew_blocks\u001b[0m \u001b[0;34m=\u001b[0m \u001b[0m_extend_blocks\u001b[0m\u001b[0;34m(\u001b[0m\u001b[0mmerged_blocks\u001b[0m\u001b[0;34m,\u001b[0m \u001b[0mnew_blocks\u001b[0m\u001b[0;34m)\u001b[0m\u001b[0;34m\u001b[0m\u001b[0;34m\u001b[0m\u001b[0m\n",
      "\u001b[0;32m~/anaconda3/envs/python3/lib/python3.6/site-packages/pandas/core/internals/blocks.py\u001b[0m in \u001b[0;36m_merge_blocks\u001b[0;34m(blocks, dtype, _can_consolidate)\u001b[0m\n\u001b[1;32m   3094\u001b[0m \u001b[0;34m\u001b[0m\u001b[0m\n\u001b[1;32m   3095\u001b[0m         \u001b[0margsort\u001b[0m \u001b[0;34m=\u001b[0m \u001b[0mnp\u001b[0m\u001b[0;34m.\u001b[0m\u001b[0margsort\u001b[0m\u001b[0;34m(\u001b[0m\u001b[0mnew_mgr_locs\u001b[0m\u001b[0;34m)\u001b[0m\u001b[0;34m\u001b[0m\u001b[0;34m\u001b[0m\u001b[0m\n\u001b[0;32m-> 3096\u001b[0;31m         \u001b[0mnew_values\u001b[0m \u001b[0;34m=\u001b[0m \u001b[0mnew_values\u001b[0m\u001b[0;34m[\u001b[0m\u001b[0margsort\u001b[0m\u001b[0;34m]\u001b[0m\u001b[0;34m\u001b[0m\u001b[0;34m\u001b[0m\u001b[0m\n\u001b[0m\u001b[1;32m   3097\u001b[0m         \u001b[0mnew_mgr_locs\u001b[0m \u001b[0;34m=\u001b[0m \u001b[0mnew_mgr_locs\u001b[0m\u001b[0;34m[\u001b[0m\u001b[0margsort\u001b[0m\u001b[0;34m]\u001b[0m\u001b[0;34m\u001b[0m\u001b[0;34m\u001b[0m\u001b[0m\n\u001b[1;32m   3098\u001b[0m \u001b[0;34m\u001b[0m\u001b[0m\n",
      "\u001b[0;31mMemoryError\u001b[0m: Unable to allocate 148. MiB for an array with shape (2, 9705113) and data type int64"
     ]
    }
   ],
   "source": [
    "#data_txn['delay_cnt']\n",
    "cnt_bl_ac = pd.crosstab(index=data_txn[\"late_entry_flg\"].fillna('missing'),  # Make a crosstab\n",
    "                      columns=\"count\") \n",
    "cnt_bl_ac"
   ]
  },
  {
   "cell_type": "markdown",
   "metadata": {},
   "source": [
    "# Amount and count of transactions - before and after closing"
   ]
  },
  {
   "cell_type": "code",
   "execution_count": null,
   "metadata": {},
   "outputs": [],
   "source": [
    "# get total of debit, credit and net transactions \n",
    "txn_dr_cr = data_txn.pivot_table(index=['gl_account', 'month_of_posting', 'month_of_entry'],\n",
    "                                    columns='debit_credit_indicator', values=['Amt_loc_Currency'] ,  aggfunc=[np.sum, 'count']) # reshape data \n",
    "txn_dr_cr = pd.DataFrame(txn_dr_cr.to_records())\n",
    "txn_dr_cr.tail(5)"
   ]
  },
  {
   "cell_type": "code",
   "execution_count": null,
   "metadata": {},
   "outputs": [],
   "source": [
    "txn_dr_cr.columns = (['gl_account', 'month_of_posting', 'month_of_entry', 'txn_cr_amt',  'txn_dr_amt', 'txn_cr_cnt',  'txn_dr_cnt' ])\n",
    "txn_dr_cr['txn_net_amt'] =txn_dr_cr[[\"txn_dr_amt\", \"txn_cr_amt\"]].sum(axis=1)\n",
    "txn_dr_cr['txn_tot_cnt'] =txn_dr_cr[[\"txn_dr_cnt\", \"txn_cr_cnt\"]].sum(axis=1)\n",
    "txn_dr_cr['txn_abs_amt'] =abs(txn_dr_cr[[\"txn_dr_amt\", \"txn_cr_amt\"]]).sum(axis=1)\n",
    "txn_dr_cr['late_entry_flg'] = np.where(txn_dr_cr['month_of_entry']> txn_dr_cr['month_of_posting'], 1, 0)"
   ]
  },
  {
   "cell_type": "code",
   "execution_count": null,
   "metadata": {},
   "outputs": [],
   "source": [
    "txn_dr_cr.head()"
   ]
  },
  {
   "cell_type": "code",
   "execution_count": null,
   "metadata": {},
   "outputs": [],
   "source": [
    "# quick QC\n",
    "txn_dr_cr.txn_cr_cnt.sum() + txn_dr_cr.txn_dr_cnt.sum() ,  txn_dr_cr.txn_abs_amt.sum().round() , txn_dr_cr.txn_tot_cnt.sum() "
   ]
  },
  {
   "cell_type": "code",
   "execution_count": null,
   "metadata": {},
   "outputs": [],
   "source": [
    "df = txn_dr_cr.pivot_table(index=['gl_account', 'month_of_posting'],\n",
    "                                    columns='late_entry_flg', values=['txn_tot_cnt','txn_abs_amt'] ,  aggfunc=[np.sum]) # reshape data \n",
    "df = pd.DataFrame(df.to_records())\n",
    "df.columns = (['gl_account', 'month_of_posting', 'txn_amt_bfr_closing',  'closing_txn_amt', 'txn_cnt_bfr_closing',  'closing_txn_cnt' ])\n",
    "df = df.fillna(0)\n",
    "df.tail()"
   ]
  },
  {
   "cell_type": "code",
   "execution_count": null,
   "metadata": {},
   "outputs": [],
   "source": [
    "# quick QC\n",
    "df.txn_cnt_bfr_closing.sum() + df.closing_txn_cnt.sum() , df.txn_amt_bfr_closing.sum() + df.closing_txn_amt.sum() "
   ]
  },
  {
   "cell_type": "markdown",
   "metadata": {},
   "source": [
    "# Calculate percentage variables"
   ]
  },
  {
   "cell_type": "code",
   "execution_count": null,
   "metadata": {},
   "outputs": [],
   "source": [
    "df['txn_amt'] = df['txn_amt_bfr_closing']  + df['closing_txn_amt'] \n",
    "df['txn_amt'].head()"
   ]
  },
  {
   "cell_type": "code",
   "execution_count": null,
   "metadata": {},
   "outputs": [],
   "source": [
    "df['txn_cnt'] = df['txn_cnt_bfr_closing']  + df['closing_txn_cnt'] \n",
    "df['txn_cnt'].head()"
   ]
  },
  {
   "cell_type": "code",
   "execution_count": null,
   "metadata": {},
   "outputs": [],
   "source": [
    "df['closing_txns_amt_perc'] = df['closing_txn_amt'].div(df['txn_amt']).replace(np.inf, 0).round(2)\n",
    "df['closing_txns_cnt_perc'] = df['closing_txn_cnt'].div(df['txn_cnt']).replace(np.inf, 0).round(2)"
   ]
  },
  {
   "cell_type": "code",
   "execution_count": null,
   "metadata": {},
   "outputs": [],
   "source": [
    "df['closing_txns_cnt_perc'] .describe()"
   ]
  },
  {
   "cell_type": "code",
   "execution_count": null,
   "metadata": {},
   "outputs": [],
   "source": [
    "df['closing_txns_amt_perc'] .describe()"
   ]
  },
  {
   "cell_type": "code",
   "execution_count": null,
   "metadata": {},
   "outputs": [],
   "source": [
    "df.tail()"
   ]
  },
  {
   "cell_type": "markdown",
   "metadata": {},
   "source": [
    "# QC of data"
   ]
  },
  {
   "cell_type": "code",
   "execution_count": null,
   "metadata": {},
   "outputs": [],
   "source": [
    "# current data\n",
    "df.txn_amt.sum(), df.txn_cnt.sum(), df.closing_txn_amt.sum(), df.closing_txn_cnt.sum()"
   ]
  },
  {
   "cell_type": "code",
   "execution_count": null,
   "metadata": {},
   "outputs": [],
   "source": [
    "x = abs(data_txn[[\"Amt_loc_Currency\"]]).sum()\n",
    "y = abs(data_txn[[\"Amt_loc_Currency\"]]).count()\n",
    "\n",
    "print('%f' % x, y)"
   ]
  },
  {
   "cell_type": "markdown",
   "metadata": {},
   "source": [
    "# Preprocessing - dates and gl accounts "
   ]
  },
  {
   "cell_type": "code",
   "execution_count": null,
   "metadata": {},
   "outputs": [],
   "source": [
    "# testing on a few transactions\n",
    "transactions1 = df.loc[df[\"gl_account\"] ==  '0009600016']\n",
    "# transactions2 = df.loc[df[\"gl_account\"] ==  '0067593000']\n",
    "# transactions3 = df.loc[df[\"gl_account\"] ==  '0069610030']\n",
    "# transactions4 = df.loc[df[\"gl_account\"] ==  '0060900000']\n",
    "# transactions5 = df.loc[df[\"gl_account\"] ==  '0048857020']\n",
    "# df1 = transactions1.append(transactions2.append(transactions3.append(transactions4.append(transactions5))))\n",
    "df1 = transactions1\n",
    "# transactions1.shape, transactions2.shape, transactions3.shape, transactions4.shape, transactions5.shape, df1.shape"
   ]
  },
  {
   "cell_type": "code",
   "execution_count": null,
   "metadata": {},
   "outputs": [],
   "source": [
    "df1.head()"
   ]
  },
  {
   "cell_type": "code",
   "execution_count": null,
   "metadata": {},
   "outputs": [],
   "source": [
    "# df11 = txn_dr_cr.loc[txn_dr_cr[\"gl_account\"] == \"R1111300\"]\n",
    "# df11"
   ]
  },
  {
   "cell_type": "code",
   "execution_count": null,
   "metadata": {},
   "outputs": [],
   "source": [
    "df1 = df[['gl_account', 'month_of_posting','closing_txn_amt', 'closing_txn_cnt', 'closing_txns_amt_perc', 'closing_txns_cnt_perc']]\n",
    "df1.columns = ['gl_account', 'ds', 'closing_txn_amt', 'closing_txn_cnt', 'closing_txns_amt_perc', 'closing_txns_cnt_perc']\n",
    "df1[\"ds\"] = pd.to_datetime(df1[\"ds\"])\n",
    "df1.head()"
   ]
  },
  {
   "cell_type": "markdown",
   "metadata": {},
   "source": [
    "# Exclusions"
   ]
  },
  {
   "cell_type": "code",
   "execution_count": null,
   "metadata": {},
   "outputs": [],
   "source": [
    "# get account start date - date of first transaction\n",
    "# get a cross tab of all dates for all GL accounts\n",
    "# reduce the cross tab by taking dates only after first transaction\n",
    "# run the model only on accounts with atleast 12 data points\n"
   ]
  },
  {
   "cell_type": "markdown",
   "metadata": {},
   "source": [
    "### 1. Accounts newer than one year "
   ]
  },
  {
   "cell_type": "markdown",
   "metadata": {},
   "source": [
    "Get minimum txn date for each GL account"
   ]
  },
  {
   "cell_type": "code",
   "execution_count": null,
   "metadata": {},
   "outputs": [],
   "source": [
    "df_txn_min_date = df1.loc[df1.groupby('gl_account')['ds'].idxmin()]\n",
    "df_txn_min_date = df_txn_min_date[['gl_account', 'ds']]\n",
    "df_txn_min_date.columns = ['gl_account', 'txn_min_date']\n",
    "df_txn_min_date.head()"
   ]
  },
  {
   "cell_type": "code",
   "execution_count": null,
   "metadata": {},
   "outputs": [],
   "source": [
    "df_txn_min_date.shape"
   ]
  },
  {
   "cell_type": "code",
   "execution_count": null,
   "metadata": {},
   "outputs": [],
   "source": [
    "import dateutil\n",
    "date_today = pd.to_datetime('today')\n",
    "model_min_date = date_today - dateutil.relativedelta.relativedelta(months=12)\n",
    "date_today, model_min_date"
   ]
  },
  {
   "cell_type": "code",
   "execution_count": null,
   "metadata": {},
   "outputs": [],
   "source": [
    "df_txn_min_date1 = df_txn_min_date[df_txn_min_date['txn_min_date']<= model_min_date]\n",
    "df_txn_min_date1.shape"
   ]
  },
  {
   "cell_type": "code",
   "execution_count": null,
   "metadata": {},
   "outputs": [],
   "source": [
    "df_txn_min_date1.head()"
   ]
  },
  {
   "cell_type": "markdown",
   "metadata": {},
   "source": [
    "### 2. Accounts with 2 or lesser late entries in two years"
   ]
  },
  {
   "cell_type": "code",
   "execution_count": null,
   "metadata": {},
   "outputs": [],
   "source": [
    "df_max_closing_txn_cnt = df1.loc[df1.groupby('gl_account')['closing_txn_cnt'].idxmax()]\n",
    "df_max_closing_txn_cnt = df_max_closing_txn_cnt[['gl_account', 'closing_txn_cnt']]\n",
    "df_max_closing_txn_cnt.columns = ['gl_account', 'df_max_txn_cnt']\n",
    "df_max_closing_txn_cnt.shape\n",
    "# check if the amount in local currency for any of these accounts is > 50k "
   ]
  },
  {
   "cell_type": "code",
   "execution_count": null,
   "metadata": {},
   "outputs": [],
   "source": [
    "df_max_closing_txn_cnt"
   ]
  },
  {
   "cell_type": "code",
   "execution_count": null,
   "metadata": {},
   "outputs": [],
   "source": [
    "df_max_closing_txn_cnt = df_max_closing_txn_cnt[(df_max_closing_txn_cnt['df_max_txn_cnt'] > 2)]\n",
    "df_max_closing_txn_cnt.shape"
   ]
  },
  {
   "cell_type": "markdown",
   "metadata": {},
   "source": [
    "### 3. Accounts starting wtih 4305 and 4306"
   ]
  },
  {
   "cell_type": "code",
   "execution_count": null,
   "metadata": {},
   "outputs": [],
   "source": [
    "# 4305 or 4306\n",
    "list_gl_ac = df1.gl_account.unique()\n",
    "list_gl_ac_excl_4305_4306 = [x for x in list_gl_ac if not x.startswith(('004305', '004306'))]\n",
    "len(list_gl_ac), len(list_gl_ac_excl_4305_4306)\n",
    "# transactions1= transactions[transactions.gl_account.isin(list_gl_ac1)]\n"
   ]
  },
  {
   "cell_type": "markdown",
   "metadata": {},
   "source": [
    "### Get final list of accounts for removal"
   ]
  },
  {
   "cell_type": "code",
   "execution_count": null,
   "metadata": {},
   "outputs": [],
   "source": [
    "# df_AC_post_exclusions0 = data2"
   ]
  },
  {
   "cell_type": "code",
   "execution_count": null,
   "metadata": {},
   "outputs": [],
   "source": [
    "df_AC_post_exclusions0 = df_max_closing_txn_cnt.merge(df_txn_min_date1, on = 'gl_account')\n",
    "#df_max_closing_txn_cnt df_txn_min_date\n",
    "df_AC_post_exclusions0.shape"
   ]
  },
  {
   "cell_type": "code",
   "execution_count": null,
   "metadata": {},
   "outputs": [],
   "source": [
    "df_AC_post_exclusions = df_AC_post_exclusions0[df_AC_post_exclusions0.gl_account.isin(list_gl_ac_excl_4305_4306)]\n",
    "df_AC_post_exclusions.shape"
   ]
  },
  {
   "cell_type": "code",
   "execution_count": null,
   "metadata": {},
   "outputs": [],
   "source": [
    "df_AC_post_exclusions.head()"
   ]
  },
  {
   "cell_type": "code",
   "execution_count": null,
   "metadata": {},
   "outputs": [],
   "source": [
    "df_chk = df_AC_post_exclusions.loc[df_AC_post_exclusions[\"gl_account\"] ==  '0025397026']\n",
    "df_chk"
   ]
  },
  {
   "cell_type": "markdown",
   "metadata": {},
   "source": [
    "### Create empty frame of GL accounts * Month"
   ]
  },
  {
   "cell_type": "code",
   "execution_count": null,
   "metadata": {},
   "outputs": [],
   "source": [
    "list_dates = pd.date_range(start=\"2018-10-01\",end=\"2020-10-01\",freq='M' ).tolist()\n",
    "list_gl_ac_post_excl = df_AC_post_exclusions.gl_account.unique()\n",
    "len(list_dates), len(list_gl_ac_post_excl)"
   ]
  },
  {
   "cell_type": "code",
   "execution_count": null,
   "metadata": {},
   "outputs": [],
   "source": [
    "df_dates = pd.DataFrame({'date':list_dates})\n",
    "df_list_gl_ac_post_excl = pd.DataFrame({'gl_account':list_gl_ac_post_excl})\n",
    "df_list_gl_ac_post_excl['key'] = 0\n",
    "df_dates['key'] = 0\n",
    "dates_and_ac = df_list_gl_ac_post_excl.merge(df_dates, how='left', on = 'key')\n",
    "dates_and_ac.drop('key',1, inplace=True)\n",
    "dates_and_ac.shape"
   ]
  },
  {
   "cell_type": "code",
   "execution_count": null,
   "metadata": {},
   "outputs": [],
   "source": [
    "### remove dates which fall before the minimum transaction dates for the accounts"
   ]
  },
  {
   "cell_type": "code",
   "execution_count": null,
   "metadata": {},
   "outputs": [],
   "source": [
    "dates_and_ac.tail(5)"
   ]
  },
  {
   "cell_type": "code",
   "execution_count": null,
   "metadata": {},
   "outputs": [],
   "source": [
    "dates_and_ac.shape"
   ]
  },
  {
   "cell_type": "markdown",
   "metadata": {},
   "source": [
    "### Remove account*date combination occouring before the min txn date from empty rack"
   ]
  },
  {
   "cell_type": "code",
   "execution_count": null,
   "metadata": {},
   "outputs": [],
   "source": [
    "dates_and_ac2 = pd.merge(dates_and_ac, df_AC_post_exclusions, left_on = ['gl_account'],  right_on = ['gl_account'], how = 'left')\n",
    "dates_and_ac2.head(5)"
   ]
  },
  {
   "cell_type": "code",
   "execution_count": null,
   "metadata": {},
   "outputs": [],
   "source": [
    "dates_and_ac3 = dates_and_ac2[(dates_and_ac2['txn_min_date'] <= dates_and_ac2['date'])]\n",
    "dates_and_ac3.shape"
   ]
  },
  {
   "cell_type": "code",
   "execution_count": null,
   "metadata": {},
   "outputs": [],
   "source": [
    "dates_and_ac3.head(5)"
   ]
  },
  {
   "cell_type": "markdown",
   "metadata": {},
   "source": [
    "### Subset txn data post exclusions\n",
    "\n"
   ]
  },
  {
   "cell_type": "code",
   "execution_count": null,
   "metadata": {},
   "outputs": [],
   "source": [
    "df1.shape"
   ]
  },
  {
   "cell_type": "code",
   "execution_count": null,
   "metadata": {},
   "outputs": [],
   "source": [
    "df2 = pd.merge(dates_and_ac3[['gl_account', 'date']], df1, left_on = ['gl_account', 'date'],  right_on = ['gl_account', 'ds'], how = 'left')\n",
    "df2.head()"
   ]
  },
  {
   "cell_type": "code",
   "execution_count": null,
   "metadata": {},
   "outputs": [],
   "source": [
    "df2.shape"
   ]
  },
  {
   "cell_type": "markdown",
   "metadata": {},
   "source": [
    "Merge the empty frame with main data to get y values"
   ]
  },
  {
   "cell_type": "code",
   "execution_count": null,
   "metadata": {},
   "outputs": [],
   "source": [
    "num_cols = df2.select_dtypes(include=[np.number]).columns\n",
    "df2[num_cols]=df2.select_dtypes(include=[np.number]).fillna(0)\n",
    "df2.head()"
   ]
  },
  {
   "cell_type": "code",
   "execution_count": null,
   "metadata": {},
   "outputs": [],
   "source": [
    "# remove GL accounts with less than 12 months of data "
   ]
  },
  {
   "cell_type": "code",
   "execution_count": null,
   "metadata": {},
   "outputs": [],
   "source": [
    "df2.to_csv('/home/ec2-user/SageMaker/data-science-ending-balance/code/data-science/03-modeling/model_data.csv',sep=\",\",index=False,encoding=\"utf-8\")"
   ]
  },
  {
   "cell_type": "code",
   "execution_count": null,
   "metadata": {},
   "outputs": [],
   "source": []
  }
 ],
 "metadata": {
  "kernelspec": {
   "display_name": "conda_python3",
   "language": "python",
   "name": "conda_python3"
  },
  "language_info": {
   "codemirror_mode": {
    "name": "ipython",
    "version": 3
   },
   "file_extension": ".py",
   "mimetype": "text/x-python",
   "name": "python",
   "nbconvert_exporter": "python",
   "pygments_lexer": "ipython3",
   "version": "3.6.10"
  }
 },
 "nbformat": 4,
 "nbformat_minor": 4
}
