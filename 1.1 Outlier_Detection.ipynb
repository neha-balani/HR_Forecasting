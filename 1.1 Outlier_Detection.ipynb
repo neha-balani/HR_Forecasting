{
 "cells": [
  {
   "cell_type": "code",
   "execution_count": 1,
   "metadata": {},
   "outputs": [],
   "source": [
    "def out_std(s, nstd=3.0, return_thresholds=False):\n",
    "    \"\"\"\n",
    "    Return a boolean mask of outliers for a series\n",
    "    using standard deviation, works column-wise.\n",
    "    param nstd:\n",
    "        Set number of standard deviations from the mean\n",
    "        to consider an outlier\n",
    "    :type nstd: ``float``\n",
    "    param return_thresholds:\n",
    "        True returns the lower and upper bounds, good for plotting.\n",
    "        False returns the masked array \n",
    "    :type return_thresholds: ``bool``\n",
    "    \"\"\"\n",
    "    data_mean, data_std = s.mean(), s.std()\n",
    "    cut_off = data_std * nstd\n",
    "    lower, upper = data_mean - cut_off, data_mean + cut_off\n",
    "    if return_thresholds:\n",
    "        return lower, upper\n",
    "    else:\n",
    "        return [True if x < lower or x > upper else False for x in s]\n",
    "\n",
    "def out_iqr(s, k=1.5, return_thresholds=False):\n",
    "    \"\"\"\n",
    "    Return a boolean mask of outliers for a series\n",
    "    using interquartile range, works column-wise.\n",
    "    param k:\n",
    "        some cutoff to multiply by the iqr\n",
    "    :type k: ``float``\n",
    "    param return_thresholds:\n",
    "        True returns the lower and upper bounds, good for plotting.\n",
    "        False returns the masked array \n",
    "    :type return_thresholds: ``bool``\n",
    "    \"\"\"\n",
    "    # calculate interquartile range\n",
    "    q25, q75 = np.percentile(s, 25), np.percentile(s, 75)\n",
    "    iqr = q75 - q25\n",
    "    # calculate the outlier cutoff\n",
    "    cut_off = iqr * k\n",
    "    lower, upper = q25 - cut_off, q75 + cut_off\n",
    "    if return_thresholds:\n",
    "        return lower, upper\n",
    "    else: # identify outliers\n",
    "        return [True if x < lower or x > upper else False for x in s]"
   ]
  },
  {
   "cell_type": "code",
   "execution_count": null,
   "metadata": {},
   "outputs": [],
   "source": [
    "def replace(group):\n",
    "    mean, std = group.mean(), group.std()\n",
    "    outliers = (group - mean).abs() > 3*std\n",
    "    group[outliers] = mean        # or \"group[~outliers].mean()\"\n",
    "    return group\n",
    "\n",
    "df.groupby('a').transform(replace)"
   ]
  }
 ],
 "metadata": {
  "kernelspec": {
   "display_name": "Python 3",
   "language": "python",
   "name": "python3"
  },
  "language_info": {
   "codemirror_mode": {
    "name": "ipython",
    "version": 3
   },
   "file_extension": ".py",
   "mimetype": "text/x-python",
   "name": "python",
   "nbconvert_exporter": "python",
   "pygments_lexer": "ipython3",
   "version": "3.7.6"
  }
 },
 "nbformat": 4,
 "nbformat_minor": 4
}
