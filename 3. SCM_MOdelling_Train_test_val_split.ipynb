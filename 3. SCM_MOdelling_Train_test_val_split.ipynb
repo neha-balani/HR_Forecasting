{
 "cells": [
  {
   "cell_type": "code",
   "execution_count": 1,
   "metadata": {},
   "outputs": [],
   "source": [
    "import warnings\n",
    "warnings.filterwarnings('ignore')\n",
    "import pandas as pd\n",
    "import numpy as np\n",
    "from datetime import datetime\n",
    "import matplotlib.pyplot as plt\n",
    "import statsmodels.api as sm\n",
    "import seaborn as sns\n",
    "from matplotlib.pylab import rcParams\n",
    "import statsmodels.tsa.api as smt\n",
    "rcParams['figure.figsize'] = 8,4"
   ]
  },
  {
   "cell_type": "markdown",
   "metadata": {},
   "source": [
    "# Read the file"
   ]
  },
  {
   "cell_type": "markdown",
   "metadata": {},
   "source": [
    "# Selecting Train, test and  Validation time periods"
   ]
  },
  {
   "cell_type": "code",
   "execution_count": 2,
   "metadata": {},
   "outputs": [
    {
     "data": {
      "text/plain": [
       "2020-02-01   -19.0\n",
       "2020-03-01     3.0\n",
       "2020-04-01   -15.0\n",
       "2020-05-01    13.0\n",
       "2020-06-01     2.0\n",
       "Name: data_diff1, dtype: float64"
      ]
     },
     "execution_count": 2,
     "metadata": {},
     "output_type": "execute_result"
    }
   ],
   "source": [
    "Y_data = pd.read_pickle('C:\\\\Users\\\\z0047cfr\\\\Project Work\\\\Factory Demand Model\\\\Input Data\\\\input_df3.pkl')\n",
    "Y_data['date'] = Y_data.index\n",
    "Y_data['data_diff1'] = ((Y_data['data']) - (Y_data['data'].shift(1))).dropna()\n",
    "Y_data= Y_data['2014-11-01':]\n",
    "Y_data.data_diff1.tail(5)"
   ]
  },
  {
   "cell_type": "markdown",
   "metadata": {},
   "source": [
    "# Year wise variance"
   ]
  },
  {
   "cell_type": "code",
   "execution_count": 3,
   "metadata": {},
   "outputs": [
    {
     "name": "stdout",
     "output_type": "stream",
     "text": [
      "Variance:  date\n",
      "2014      0.000000\n",
      "2015     61.537879\n",
      "2016     24.878788\n",
      "2017     38.386364\n",
      "2018     58.878788\n",
      "2019    188.060606\n",
      "2020    152.000000\n",
      "Name: data_diff1, dtype: float64\n"
     ]
    }
   ],
   "source": [
    "#pd.to_datetime(Y.date)\n",
    "print('Variance: ', Y_data.groupby([pd.to_datetime(Y_data.date).dt.strftime('%Y')])['data_diff1'].var())"
   ]
  },
  {
   "cell_type": "markdown",
   "metadata": {},
   "source": [
    "# Current training, test and Validation  statistics"
   ]
  },
  {
   "cell_type": "code",
   "execution_count": 4,
   "metadata": {
    "scrolled": true
   },
   "outputs": [
    {
     "name": "stdout",
     "output_type": "stream",
     "text": [
      "Train Jun 16 - jun 19\n",
      "            Variance: 90.125      Mean: 0.42857142857142855      Std: 9.493418773023762\n",
      "Test 6m\n",
      "            Variance: 26.7      Mean: 1.5      Std: 5.167204273105526\n",
      "Val 6m\n",
      "            Variance: 152.0      Mean: -2.0      Std: 12.328828005937952\n"
     ]
    }
   ],
   "source": [
    "Y_data_all = Y_data['2016-06-01':]\n",
    "print('Train Jun 16 - jun 19')\n",
    "print(\"            Variance:\", Y_data_all.data_diff1.var(), \"     Mean:\", Y_data_all.data_diff1.mean(), \"     Std:\", Y_data_all.data_diff1.std())\n",
    "Y_data_test = Y_data['2019-07-01':'2019-12-01']\n",
    "print('Test 6m')\n",
    "print(\"            Variance:\", Y_data_test.data_diff1.var(), \"     Mean:\", Y_data_test.data_diff1.mean(), \"     Std:\", Y_data_test.data_diff1.std())\n",
    "print('Val 6m')\n",
    "Y_data_val = Y_data['2020-01-01':'2020-06-01']\n",
    "print(\"            Variance:\", Y_data_val.data_diff1.var(), \"     Mean:\", Y_data_val.data_diff1.mean(), \"     Std:\", Y_data_val.data_diff1.std())"
   ]
  },
  {
   "cell_type": "code",
   "execution_count": 79,
   "metadata": {},
   "outputs": [
    {
     "name": "stdout",
     "output_type": "stream",
     "text": [
      "Variance: 46.878571428571426      Mean: 1.0833333333333333      Std: 6.846792784112239\n",
      "Dont recommend taking the year 2015 due to high variance\n"
     ]
    }
   ],
   "source": [
    "Y2_data_all = Y_data['2015-01-01':'2019-06-01':]\n",
    "print(\"Variance:\", Y_data_all.data_diff1.var(), \"     Mean:\", Y_data_all.data_diff1.mean(), \"     Std:\", Y_data_all.data_diff1.std())\n",
    "print(\"Dont recommend taking the year 2015 due to high variance\")"
   ]
  },
  {
   "cell_type": "markdown",
   "metadata": {},
   "source": [
    "# Add prior 6 months to training and making test and val 9 months each"
   ]
  },
  {
   "cell_type": "code",
   "execution_count": 68,
   "metadata": {},
   "outputs": [
    {
     "name": "stdout",
     "output_type": "stream",
     "text": [
      "Train Jan 16 to Jan 19\n",
      "            Variance: 46.878571428571426      Mean: 1.0833333333333333      Std: 6.846792784112239\n",
      "Test- 9m\n",
      "            Variance: 244.1111111111111      Mean: 1.8888888888888888      Std: 15.62405552701062\n",
      "Val- 9m\n",
      "            Variance: 152.0      Mean: -2.0      Std: 12.328828005937952\n"
     ]
    }
   ],
   "source": [
    "Y_data_all = Y_data['2016-01-01':'2019-12-01']\n",
    "print(\"Train Jan 16 to Jan 19\")\n",
    "print(\"            Variance:\", Y_data_all.data_diff1.var(), \"     Mean:\", Y_data_all.data_diff1.mean(), \"     Std:\", Y_data_all.data_diff1.std())\n",
    "\n",
    "Y_data_test = Y_data['2019-01-01':'2019-09-01']\n",
    "print(\"Test- 9m\")\n",
    "print(\"            Variance:\", Y_data_test.data_diff1.var(), \"     Mean:\", Y_data_test.data_diff1.mean(), \"     Std:\", Y_data_test.data_diff1.std())\n",
    "\n",
    "Y_data_Val = Y_data['2019-10-01':'2020-06-01']\n",
    "print(\"Val- 9m\")\n",
    "print(\"            Variance:\", Y_data_val.data_diff1.var(), \"     Mean:\", Y_data_val.data_diff1.mean(), \"     Std:\", Y_data_val.data_diff1.std())\n"
   ]
  },
  {
   "cell_type": "code",
   "execution_count": 76,
   "metadata": {},
   "outputs": [
    {
     "name": "stdout",
     "output_type": "stream",
     "text": [
      "Variance: 78.93572695035462      Mean: 1.1458333333333333      Std: 8.884578040084662\n",
      "Test- 9m\n",
      "            Variance: 169.0      Mean: -4.0      Std: 13.0\n",
      "Val- 9m\n",
      "            Variance: 152.0      Mean: -2.0      Std: 12.328828005937952\n"
     ]
    }
   ],
   "source": [
    "Y_data_train1 = Y_data['2016-01-01':'2019-12-01']\n",
    "print(\"Variance:\", Y_data_train1.data_diff1.var(), \"     Mean:\", Y_data_train1.data_diff1.mean(), \"     Std:\", Y_data_train1.data_diff1.std())\n",
    "\n",
    "Y_data_test = Y_data['2020-01-01':'2020-03-01']\n",
    "print(\"Test- 9m\")\n",
    "print(\"            Variance:\", Y_data_test.data_diff1.var(), \"     Mean:\", Y_data_test.data_diff1.mean(), \"     Std:\", Y_data_test.data_diff1.std())\n",
    "\n",
    "Y_data_Val = Y_data['2020-04-01':'2020-06-01']\n",
    "print(\"Val- 9m\")\n",
    "print(\"            Variance:\", Y_data_val.data_diff1.var(), \"     Mean:\", Y_data_val.data_diff1.mean(), \"     Std:\", Y_data_val.data_diff1.std())\n"
   ]
  },
  {
   "cell_type": "markdown",
   "metadata": {},
   "source": [
    "# Finally selected Train test and validation periods"
   ]
  },
  {
   "cell_type": "code",
   "execution_count": 5,
   "metadata": {},
   "outputs": [
    {
     "name": "stdout",
     "output_type": "stream",
     "text": [
      "Train - 36m Jan 16 to June 19              Variance: 87.2102206736353      Mean: 1.0952380952380953      Std: 9.338641264854074\n",
      "Test- 9m - July 2019 to March 2020           Variance: 66.5      Mean: -0.3333333333333333      Std: 8.154753215150045\n",
      "Val- 3m - Apr 2019 to June 2020             Variance: 199.0      Mean: 0.0      Std: 14.106735979665885\n",
      "Final validation -  July 2020 to sept 2020  - retrain till june 2020\n"
     ]
    }
   ],
   "source": [
    "Y_data_all = Y_data['2016-01-01':'2019-06-01']\n",
    "print(\"Train - 36m Jan 16 to June 19 \", \"            Variance:\", Y_data_all.data_diff1.var(), \"     Mean:\", Y_data_all.data_diff1.mean(), \"     Std:\", Y_data_all.data_diff1.std())\n",
    "\n",
    "Y_data_val = Y_data['2019-07-01':'2020-03-01']\n",
    "print(\"Test- 9m - July 2019 to March 2020\", \"          Variance:\", Y_data_val.data_diff1.var(), \"     Mean:\", Y_data_val.data_diff1.mean(), \"     Std:\", Y_data_val.data_diff1.std())\n",
    "\n",
    "\n",
    "Y_data_val1 = Y_data['2020-04-01':'2020-06-01']\n",
    "print(\"Val- 3m - Apr 2019 to June 2020\", \"            Variance:\", Y_data_val1.data_diff1.var(), \"     Mean:\", Y_data_val1.data_diff1.mean(), \"     Std:\", Y_data_val1.data_diff1.std())\n",
    "\n",
    "print(\"Final validation -  July 2020 to sept 2020  - retrain till june 2020\")"
   ]
  }
 ],
 "metadata": {
  "kernelspec": {
   "display_name": "Python 3",
   "language": "python",
   "name": "python3"
  },
  "language_info": {
   "codemirror_mode": {
    "name": "ipython",
    "version": 3
   },
   "file_extension": ".py",
   "mimetype": "text/x-python",
   "name": "python",
   "nbconvert_exporter": "python",
   "pygments_lexer": "ipython3",
   "version": "3.7.6"
  }
 },
 "nbformat": 4,
 "nbformat_minor": 4
}
